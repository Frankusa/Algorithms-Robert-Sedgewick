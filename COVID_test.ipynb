{
  "nbformat": 4,
  "nbformat_minor": 0,
  "metadata": {
    "colab": {
      "name": "COVID test.ipynb",
      "provenance": [],
      "authorship_tag": "ABX9TyPAFhs8fPx4fxImjGQlJgbs",
      "include_colab_link": true
    },
    "kernelspec": {
      "name": "python3",
      "display_name": "Python 3"
    }
  },
  "cells": [
    {
      "cell_type": "markdown",
      "metadata": {
        "id": "view-in-github",
        "colab_type": "text"
      },
      "source": [
        "<a href=\"https://colab.research.google.com/github/Frankusa/Algorithms-Robert-Sedgewick/blob/master/COVID_test.ipynb\" target=\"_parent\"><img src=\"https://colab.research.google.com/assets/colab-badge.svg\" alt=\"Open In Colab\"/></a>"
      ]
    },
    {
      "cell_type": "code",
      "metadata": {
        "id": "cxVRG-FhJOPi",
        "colab_type": "code",
        "colab": {}
      },
      "source": [
        "import pandas as pd\n",
        "import numpy as np\n",
        "import matplotlib.pyplot as plt\n",
        "import utils   # some convenient functions\n",
        "import datetime\n",
        "import utils \n",
        "%load_ext autoreload\n",
        "%autoreload 2"
      ],
      "execution_count": 0,
      "outputs": []
    },
    {
      "cell_type": "code",
      "metadata": {
        "id": "sPajg-VPKW3-",
        "colab_type": "code",
        "colab": {}
      },
      "source": [
        "import json\n",
        "import urllib.request"
      ],
      "execution_count": 0,
      "outputs": []
    },
    {
      "cell_type": "code",
      "metadata": {
        "id": "yL1Oj3qiKe7R",
        "colab_type": "code",
        "colab": {}
      },
      "source": [
        "url_states_current = 'https://covidtracking.com/api/states'\n",
        "url_states_daily = 'https://covidtracking.com/api/states/daily'\n",
        "test_daily = urllib.request.urlopen(url_states_daily).read().decode()\n",
        "data_json = json.loads(test_daily)"
      ],
      "execution_count": 0,
      "outputs": []
    },
    {
      "cell_type": "code",
      "metadata": {
        "id": "dNpF3BsSKicw",
        "colab_type": "code",
        "colab": {}
      },
      "source": [
        "data = pd.read_csv(url_states_daily + '.csv')\n",
        "data['date'] = pd.to_datetime([str(d) for d in data['date']])\n",
        "data = data.sort_values(by='date')"
      ],
      "execution_count": 0,
      "outputs": []
    },
    {
      "cell_type": "code",
      "metadata": {
        "id": "8QT0bCtaKlca",
        "colab_type": "code",
        "colab": {}
      },
      "source": [
        "frm = data[data['state']=='CA'].set_index('date')   # one state\n",
        "#frm = pd.pivot_table(data, index='date', aggfunc='sum')  # whole contry\n",
        "frm['dailyPositiveRate'] = frm['positiveIncrease'] / frm['totalTestResultsIncrease']\n",
        "frm.tail()"
      ],
      "execution_count": 0,
      "outputs": []
    },
    {
      "cell_type": "code",
      "metadata": {
        "id": "vgXBwcdcKrCA",
        "colab_type": "code",
        "colab": {}
      },
      "source": [
        "#fig, ax = plt.subplots()\n",
        "ax = frm.plot(y=['totalTestResultsIncrease', 'positiveIncrease'], grid=True, style='-*')\n",
        "ax.legend(loc='upper left')\n",
        "ax2 = ax.twinx()\n",
        "frm.plot(y='dailyPositiveRate', ax=ax2, color='red', style=':', figsize=(10, 6))\n",
        "ax2.legend(loc='upper right')\n",
        "plt.show()"
      ],
      "execution_count": 0,
      "outputs": []
    }
  ]
}